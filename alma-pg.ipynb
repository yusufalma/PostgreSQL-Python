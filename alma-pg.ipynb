{
 "cells": [
  {
   "cell_type": "markdown",
   "metadata": {},
   "source": [
    "# PostgreSQL with Python\n"
    "by Alma Vita Sophia"
   ]
  },
  {
   "cell_type": "markdown",
   "metadata": {},
   "source": [
    "## Check current version of the PostgreSQL database"
   ]
  },
  {
   "cell_type": "code",
   "execution_count": null,
   "metadata": {},
   "outputs": [],
   "source": [
    "import psycopg2\n",
    "import sys\n",
    "\n",
    "con = psycopg2.connect(host='localhost', database='yusufalma', user='user', password='password')\n",
    "\n",
    "with con:\n",
    "    \n",
    "    cur = con.cursor()\n",
    "    cur.execute('SELECT version()')\n",
    "\n",
    "    version = cur.fetchone()[0]\n",
    "    print(version)"
   ]
  },
  {
   "cell_type": "markdown",
   "metadata": {},
   "source": [
    "## List all tables in database"
   ]
  },
  {
   "cell_type": "code",
   "execution_count": null,
   "metadata": {},
   "outputs": [],
   "source": [
    "with con:\n",
    "\n",
    "    cur = con.cursor()\n",
    "    cur.execute(\"\"\"SELECT table_name FROM information_schema.tables\n",
    "        WHERE table_schema = 'public'\"\"\")\n",
    "\n",
    "    rows = cur.fetchall()\n",
    "\n",
    "    for row in rows:\n",
    "        print(row[0])"
   ]
  },
  {
   "cell_type": "markdown",
   "metadata": {},
   "source": [
    "## Create table and insert data"
   ]
  },
  {
   "cell_type": "code",
   "execution_count": null,
   "metadata": {},
   "outputs": [],
   "source": [
    "with con:\n",
    "\n",
    "    cur = con.cursor()\n",
    "\n",
    "    cur.execute(\"DROP TABLE IF EXISTS cars\")\n",
    "    cur.execute(\"CREATE TABLE cars(id SERIAL PRIMARY KEY, name VARCHAR(255), price INT)\")\n",
    "    cur.execute(\"INSERT INTO cars(name, price) VALUES('Audi', 52642)\")\n",
    "    cur.execute(\"INSERT INTO cars(name, price) VALUES('Mercedes', 57127)\")\n",
    "    cur.execute(\"INSERT INTO cars(name, price) VALUES('Skoda', 9000)\")\n",
    "    cur.execute(\"INSERT INTO cars(name, price) VALUES('Volvo', 29000)\")\n",
    "    cur.execute(\"INSERT INTO cars(name, price) VALUES('Bentley', 350000)\")\n",
    "    cur.execute(\"INSERT INTO cars(name, price) VALUES('Citroen', 21000)\")\n",
    "    cur.execute(\"INSERT INTO cars(name, price) VALUES('Hummer', 41400)\")\n",
    "    cur.execute(\"INSERT INTO cars(name, price) VALUES('Volkswagen', 21600)\")"
   ]
  },
  {
   "cell_type": "markdown",
   "metadata": {},
   "source": [
    "## Retrieve table metadata"
   ]
  },
  {
   "cell_type": "code",
   "execution_count": null,
   "metadata": {},
   "outputs": [],
   "source": [
    "with con:\n",
    "\n",
    "    cur = con.cursor()\n",
    "\n",
    "    cur.execute('SELECT * FROM cars')\n",
    "\n",
    "    col_names = [cn[0] for cn in cur.description]\n",
    "    rows = cur.fetchall()\n",
    "\n",
    "    print(f'{col_names[0]} {col_names[1]} {col_names[2]}')"
   ]
  },
  {
   "cell_type": "markdown",
   "metadata": {},
   "source": [
    "## Read data in table"
   ]
  },
  {
   "cell_type": "code",
   "execution_count": null,
   "metadata": {},
   "outputs": [],
   "source": [
    "with con:\n",
    "\n",
    "    cur = con.cursor()\n",
    "    cur.execute(\"SELECT * FROM cars\")\n",
    "\n",
    "    rows = cur.fetchall()\n",
    "\n",
    "    for row in rows:\n",
    "        print(f\"{row[0]} {row[1]} {row[2]}\")"
   ]
  },
  {
   "cell_type": "markdown",
   "metadata": {},
   "source": [
    "## Update data in table"
   ]
  },
  {
   "cell_type": "code",
   "execution_count": null,
   "metadata": {},
   "outputs": [],
   "source": [
    "cars = (\n",
    "    (1, 'Audi', 52642),\n",
    "    (2, 'Mercedes', 57127),\n",
    "    (3, 'Skoda', 9000),\n",
    "    (4, 'Volvo', 29000),\n",
    "    (5, 'Bentley', 350000),\n",
    "    (6, 'Citroen', 21000),\n",
    "    (7, 'Hummer', 41400),\n",
    "    (8, 'Volkswagen', 21600)\n",
    ")\n",
    "\n",
    "with con:\n",
    "\n",
    "    cur = con.cursor()\n",
    "\n",
    "    cur.execute(\"DROP TABLE IF EXISTS cars\")\n",
    "    cur.execute(\"CREATE TABLE cars(id SERIAL PRIMARY KEY, name VARCHAR(255), price INT)\")\n",
    "\n",
    "    query = \"INSERT INTO cars (id, name, price) VALUES (%s, %s, %s)\"\n",
    "    cur.executemany(query, cars)\n",
    "\n",
    "    con.commit()"
   ]
  },
  {
   "cell_type": "markdown",
   "metadata": {},
   "source": [
    "## Import data from table to file"
   ]
  },
  {
   "cell_type": "code",
   "execution_count": null,
   "metadata": {},
   "outputs": [],
   "source": [
    "con = None\n",
    "fout = None\n",
    "\n",
    "try:\n",
    "\n",
    "    con = psycopg2.connect(host='rosie.db.elephantsql.com', database='bnaamsze', user='bnaamsze', password='FvdRBmngLOT1y-9xel5CyHtS4OtK8sph')\n",
    "    cur = con.cursor()\n",
    "    fout = open('cars.csv', 'w')\n",
    "    cur.copy_to(fout, 'cars', sep=\"|\")\n",
    "\n",
    "except psycopg2.DatabaseError as e:\n",
    "\n",
    "    print(f'Error {e}')\n",
    "    sys.exit(1)\n",
    "\n",
    "except IOError as e:\n",
    "\n",
    "    print(f'Error {e}')\n",
    "    sys.exit(1)\n",
    "\n",
    "finally:\n",
    "\n",
    "    if con:\n",
    "        con.close()\n",
    "\n",
    "    if fout:\n",
    "        fout.close()"
   ]
  },
  {
   "cell_type": "markdown",
   "metadata": {},
   "source": [
    "## Delete data from table"
   ]
  },
  {
   "cell_type": "code",
   "execution_count": null,
   "metadata": {},
   "outputs": [],
   "source": [
    "con = psycopg2.connect(host='rosie.db.elephantsql.com', database='bnaamsze', user='bnaamsze', password='FvdRBmngLOT1y-9xel5CyHtS4OtK8sph')\n",
    "\n",
    "with con:\n",
    "\n",
    "    cur = con.cursor()\n",
    "\n",
    "    cur.execute(\"TRUNCATE TABLE cars\")"
   ]
  },
  {
   "cell_type": "markdown",
   "metadata": {},
   "source": [
    "## Export data from file to table"
   ]
  },
  {
   "cell_type": "code",
   "execution_count": null,
   "metadata": {},
   "outputs": [],
   "source": [
    "con = None\n",
    "f = None\n",
    "\n",
    "try:\n",
    "\n",
    "    con = psycopg2.connect(host='rosie.db.elephantsql.com', database='bnaamsze', user='bnaamsze', password='FvdRBmngLOT1y-9xel5CyHtS4OtK8sph')\n",
    "    cur = con.cursor()\n",
    "    f = open('cars.csv', 'r')\n",
    "\n",
    "    cur.copy_from(f, 'cars', sep=\"|\")\n",
    "    con.commit()\n",
    "\n",
    "except psycopg2.DatabaseError as e:\n",
    "\n",
    "    if con:\n",
    "        con.rollback()\n",
    "\n",
    "    print(f'Error {e}')\n",
    "    sys.exit(1)\n",
    "\n",
    "except IOError as e:\n",
    "\n",
    "    if con:\n",
    "        con.rollback()\n",
    "\n",
    "    print(f'Error {e}')\n",
    "    sys.exit(1)\n",
    "\n",
    "finally:\n",
    "\n",
    "    if con:\n",
    "        con.close()\n",
    "\n",
    "    if f:\n",
    "        f.close()"
   ]
  },
  {
   "cell_type": "markdown",
   "metadata": {},
   "source": [
    "## Delete table from database"
   ]
  },
  {
   "cell_type": "code",
   "execution_count": null,
   "metadata": {},
   "outputs": [],
   "source": [
    "con = psycopg2.connect(host='rosie.db.elephantsql.com', database='bnaamsze', user='bnaamsze', password='FvdRBmngLOT1y-9xel5CyHtS4OtK8sph')\n",
    "\n",
    "with con:\n",
    "\n",
    "    cur = con.cursor()\n",
    "\n",
    "    cur.execute(\"DROP TABLE cars\")"
   ]
  },
  {
   "cell_type": "code",
   "execution_count": null,
   "metadata": {},
   "outputs": [],
   "source": []
  }
 ],
 "metadata": {
  "kernelspec": {
   "display_name": "Python 3",
   "language": "python",
   "name": "python3"
  },
  "language_info": {
   "codemirror_mode": {
    "name": "ipython",
    "version": 3
   },
   "file_extension": ".py",
   "mimetype": "text/x-python",
   "name": "python",
   "nbconvert_exporter": "python",
   "pygments_lexer": "ipython3",
   "version": "3.7.4"
  }
 },
 "nbformat": 4,
 "nbformat_minor": 2
}
